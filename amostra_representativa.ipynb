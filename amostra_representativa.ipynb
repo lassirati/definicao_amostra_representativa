{
 "cells": [
  {
   "cell_type": "code",
   "execution_count": 1,
   "id": "9c739287-750c-42d3-9ff1-d367b8fcfc9c",
   "metadata": {},
   "outputs": [],
   "source": [
    "## import de LIBS\n",
    "\n",
    "import pandas as pd\n",
    "import numpy as np\n",
    "import seaborn as sns\n",
    "import matplotlib.pyplot as plt"
   ]
  },
  {
   "cell_type": "code",
   "execution_count": null,
   "id": "0c47b447-a576-4026-9454-e166432d839d",
   "metadata": {},
   "outputs": [],
   "source": [
    "### Antes de começar: Análise de quais variáveis serão utilziadas\n",
    "### Uma análise de correlação pode ser bem-vinda aqui para levar apenas as vars mais pertinentes\n",
    "### ou até mesmo uma reunião com outras partes interessadas\n",
    "\n",
    "\n",
    "# -- EXEMPLO DE ANÁLISE DE CORRELAÇÃO VIA SEABORN -- \n",
    "#plt.figure(figsize=(16, 6))\n",
    "#heatmap = sns.heatmap(df.corr(), vmin=-1, vmax=1, annot=True, cmap='BrBG')\n",
    "#heatmap.set_title('MATRIZ R2 DE CORRELACAO', fontdict={'fontsize':25}, pad=12);"
   ]
  },
  {
   "cell_type": "code",
   "execution_count": 2,
   "id": "cfe6f698-0ff5-42e3-b824-21216b58f69d",
   "metadata": {},
   "outputs": [
    {
     "data": {
      "text/html": [
       "<div>\n",
       "<style scoped>\n",
       "    .dataframe tbody tr th:only-of-type {\n",
       "        vertical-align: middle;\n",
       "    }\n",
       "\n",
       "    .dataframe tbody tr th {\n",
       "        vertical-align: top;\n",
       "    }\n",
       "\n",
       "    .dataframe thead th {\n",
       "        text-align: right;\n",
       "    }\n",
       "</style>\n",
       "<table border=\"1\" class=\"dataframe\">\n",
       "  <thead>\n",
       "    <tr style=\"text-align: right;\">\n",
       "      <th></th>\n",
       "      <th>var1</th>\n",
       "      <th>var2</th>\n",
       "      <th>var3</th>\n",
       "    </tr>\n",
       "  </thead>\n",
       "  <tbody>\n",
       "    <tr>\n",
       "      <th>0</th>\n",
       "      <td>0.0</td>\n",
       "      <td>10.0</td>\n",
       "      <td>cat_a</td>\n",
       "    </tr>\n",
       "    <tr>\n",
       "      <th>1</th>\n",
       "      <td>0.1</td>\n",
       "      <td>10.5</td>\n",
       "      <td>cat_a</td>\n",
       "    </tr>\n",
       "    <tr>\n",
       "      <th>2</th>\n",
       "      <td>0.2</td>\n",
       "      <td>10.3</td>\n",
       "      <td>cat_a</td>\n",
       "    </tr>\n",
       "    <tr>\n",
       "      <th>3</th>\n",
       "      <td>5.0</td>\n",
       "      <td>62.0</td>\n",
       "      <td>cat_b</td>\n",
       "    </tr>\n",
       "    <tr>\n",
       "      <th>4</th>\n",
       "      <td>5.4</td>\n",
       "      <td>61.0</td>\n",
       "      <td>cat_b</td>\n",
       "    </tr>\n",
       "    <tr>\n",
       "      <th>5</th>\n",
       "      <td>5.2</td>\n",
       "      <td>60.0</td>\n",
       "      <td>cat_b</td>\n",
       "    </tr>\n",
       "    <tr>\n",
       "      <th>6</th>\n",
       "      <td>10.3</td>\n",
       "      <td>110.0</td>\n",
       "      <td>cat_c</td>\n",
       "    </tr>\n",
       "    <tr>\n",
       "      <th>7</th>\n",
       "      <td>10.2</td>\n",
       "      <td>111.0</td>\n",
       "      <td>cat_c</td>\n",
       "    </tr>\n",
       "    <tr>\n",
       "      <th>8</th>\n",
       "      <td>10.1</td>\n",
       "      <td>112.0</td>\n",
       "      <td>cat_c</td>\n",
       "    </tr>\n",
       "  </tbody>\n",
       "</table>\n",
       "</div>"
      ],
      "text/plain": [
       "   var1   var2   var3\n",
       "0   0.0   10.0  cat_a\n",
       "1   0.1   10.5  cat_a\n",
       "2   0.2   10.3  cat_a\n",
       "3   5.0   62.0  cat_b\n",
       "4   5.4   61.0  cat_b\n",
       "5   5.2   60.0  cat_b\n",
       "6  10.3  110.0  cat_c\n",
       "7  10.2  111.0  cat_c\n",
       "8  10.1  112.0  cat_c"
      ]
     },
     "execution_count": 2,
     "metadata": {},
     "output_type": "execute_result"
    }
   ],
   "source": [
    "### uma vez definidos os dados a se trabalhar constituímos o dataframe\n",
    "\n",
    "df = pd.read_excel('dados.xlsx')\n",
    "df"
   ]
  },
  {
   "cell_type": "code",
   "execution_count": 3,
   "id": "8fd2f2cc-8a76-4b30-b912-79c3458c1183",
   "metadata": {},
   "outputs": [
    {
     "data": {
      "text/plain": [
       "<AxesSubplot: xlabel='var1', ylabel='var2'>"
      ]
     },
     "execution_count": 3,
     "metadata": {},
     "output_type": "execute_result"
    },
    {
     "data": {
      "image/png": "[encoded data removed]",
      "text/plain": [
       "<Figure size 640x480 with 1 Axes>"
      ]
     },
     "metadata": {},
     "output_type": "display_data"
    }
   ],
   "source": [
    "### observação dos dados numéricos num plano cartesiano dá uma DICA de haver 3 grupos\n",
    "### mas é preciso corroborar esse fato\n",
    "sns.scatterplot(x=df.var1, y=df.var2)"
   ]
  },
  {
   "cell_type": "code",
   "execution_count": 4,
   "id": "f37336b8-03ae-4196-a768-d42794ee5d8b",
   "metadata": {},
   "outputs": [],
   "source": [
    "### PREPARAÇÃO DOS DADOS ###"
   ]
  },
  {
   "cell_type": "code",
   "execution_count": 5,
   "id": "c0a6063e-96ef-4bf4-938b-17e7e99f8c16",
   "metadata": {},
   "outputs": [
    {
     "data": {
      "text/plain": [
       "(0.0, 10.3)"
      ]
     },
     "execution_count": 5,
     "metadata": {},
     "output_type": "execute_result"
    }
   ],
   "source": [
    "### observação do MIN e MAX da primeira var numerica\n",
    "df.var1.min(), df.var1.max()"
   ]
  },
  {
   "cell_type": "code",
   "execution_count": 6,
   "id": "45ce34a6-2732-49e8-8daa-d9749c1e4732",
   "metadata": {},
   "outputs": [
    {
     "data": {
      "text/plain": [
       "(10.0, 112.0)"
      ]
     },
     "execution_count": 6,
     "metadata": {},
     "output_type": "execute_result"
    }
   ],
   "source": [
    "### observação do MIN e MAX da segunda var numerica\n",
    "df.var2.min(), df.var2.max()"
   ]
  },
  {
   "cell_type": "code",
   "execution_count": 7,
   "id": "32913156-3a71-4924-8e75-6b1a1b38bd0e",
   "metadata": {},
   "outputs": [],
   "source": [
    "# maximos muito discrepantes\n",
    "# sendo as escalas tao diferentes ao se usar um classificador que envolva dists cartesianas\n",
    "# pode \"pesar\" muito mais nos calcuos a var2 do que a var1,afinal sua magnute é maior\n",
    "# é preciso portanto, normalizar as escalas"
   ]
  },
  {
   "cell_type": "code",
   "execution_count": 8,
   "id": "b2705ef6-2118-4491-b829-248b8862b4e3",
   "metadata": {},
   "outputs": [
    {
     "data": {
      "text/html": [
       "<div>\n",
       "<style scoped>\n",
       "    .dataframe tbody tr th:only-of-type {\n",
       "        vertical-align: middle;\n",
       "    }\n",
       "\n",
       "    .dataframe tbody tr th {\n",
       "        vertical-align: top;\n",
       "    }\n",
       "\n",
       "    .dataframe thead th {\n",
       "        text-align: right;\n",
       "    }\n",
       "</style>\n",
       "<table border=\"1\" class=\"dataframe\">\n",
       "  <thead>\n",
       "    <tr style=\"text-align: right;\">\n",
       "      <th></th>\n",
       "      <th>var1</th>\n",
       "      <th>var2</th>\n",
       "      <th>var3</th>\n",
       "      <th>var1_norm</th>\n",
       "      <th>var2_norm</th>\n",
       "    </tr>\n",
       "  </thead>\n",
       "  <tbody>\n",
       "    <tr>\n",
       "      <th>0</th>\n",
       "      <td>0.0</td>\n",
       "      <td>10.0</td>\n",
       "      <td>cat_a</td>\n",
       "      <td>0.000000</td>\n",
       "      <td>0.000000</td>\n",
       "    </tr>\n",
       "    <tr>\n",
       "      <th>1</th>\n",
       "      <td>0.1</td>\n",
       "      <td>10.5</td>\n",
       "      <td>cat_a</td>\n",
       "      <td>0.009709</td>\n",
       "      <td>0.004902</td>\n",
       "    </tr>\n",
       "    <tr>\n",
       "      <th>2</th>\n",
       "      <td>0.2</td>\n",
       "      <td>10.3</td>\n",
       "      <td>cat_a</td>\n",
       "      <td>0.019417</td>\n",
       "      <td>0.002941</td>\n",
       "    </tr>\n",
       "    <tr>\n",
       "      <th>3</th>\n",
       "      <td>5.0</td>\n",
       "      <td>62.0</td>\n",
       "      <td>cat_b</td>\n",
       "      <td>0.485437</td>\n",
       "      <td>0.509804</td>\n",
       "    </tr>\n",
       "    <tr>\n",
       "      <th>4</th>\n",
       "      <td>5.4</td>\n",
       "      <td>61.0</td>\n",
       "      <td>cat_b</td>\n",
       "      <td>0.524272</td>\n",
       "      <td>0.500000</td>\n",
       "    </tr>\n",
       "    <tr>\n",
       "      <th>5</th>\n",
       "      <td>5.2</td>\n",
       "      <td>60.0</td>\n",
       "      <td>cat_b</td>\n",
       "      <td>0.504854</td>\n",
       "      <td>0.490196</td>\n",
       "    </tr>\n",
       "    <tr>\n",
       "      <th>6</th>\n",
       "      <td>10.3</td>\n",
       "      <td>110.0</td>\n",
       "      <td>cat_c</td>\n",
       "      <td>1.000000</td>\n",
       "      <td>0.980392</td>\n",
       "    </tr>\n",
       "    <tr>\n",
       "      <th>7</th>\n",
       "      <td>10.2</td>\n",
       "      <td>111.0</td>\n",
       "      <td>cat_c</td>\n",
       "      <td>0.990291</td>\n",
       "      <td>0.990196</td>\n",
       "    </tr>\n",
       "    <tr>\n",
       "      <th>8</th>\n",
       "      <td>10.1</td>\n",
       "      <td>112.0</td>\n",
       "      <td>cat_c</td>\n",
       "      <td>0.980583</td>\n",
       "      <td>1.000000</td>\n",
       "    </tr>\n",
       "  </tbody>\n",
       "</table>\n",
       "</div>"
      ],
      "text/plain": [
       "   var1   var2   var3  var1_norm  var2_norm\n",
       "0   0.0   10.0  cat_a   0.000000   0.000000\n",
       "1   0.1   10.5  cat_a   0.009709   0.004902\n",
       "2   0.2   10.3  cat_a   0.019417   0.002941\n",
       "3   5.0   62.0  cat_b   0.485437   0.509804\n",
       "4   5.4   61.0  cat_b   0.524272   0.500000\n",
       "5   5.2   60.0  cat_b   0.504854   0.490196\n",
       "6  10.3  110.0  cat_c   1.000000   0.980392\n",
       "7  10.2  111.0  cat_c   0.990291   0.990196\n",
       "8  10.1  112.0  cat_c   0.980583   1.000000"
      ]
     },
     "execution_count": 8,
     "metadata": {},
     "output_type": "execute_result"
    }
   ],
   "source": [
    "var1_norm = []\n",
    "var2_norm = []\n",
    "\n",
    "for i in range(0,len(df)):\n",
    "    var1_norm.append( (df.var1.iloc[i]-df.var1.min())/(df.var1.max() - df.var1.min()) )\n",
    "    var2_norm.append( (df.var2.iloc[i]-df.var2.min())/(df.var2.max() - df.var2.min()) )\n",
    "    \n",
    "df['var1_norm'] = var1_norm \n",
    "df['var2_norm'] = var2_norm\n",
    "\n",
    "df"
   ]
  },
  {
   "cell_type": "code",
   "execution_count": 9,
   "id": "bf3b9b4d-9bdd-4eab-8550-f45242f4b082",
   "metadata": {},
   "outputs": [
    {
     "data": {
      "text/plain": [
       "<AxesSubplot: xlabel='var1_norm', ylabel='var2_norm'>"
      ]
     },
     "execution_count": 9,
     "metadata": {},
     "output_type": "execute_result"
    },
    {
     "data": {
      "image/png": "[encoded data removed]",
      "text/plain": [
       "<Figure size 640x480 with 1 Axes>"
      ]
     },
     "metadata": {},
     "output_type": "display_data"
    }
   ],
   "source": [
    "sns.scatterplot(x=df.var1_norm, y=df.var2_norm)"
   ]
  },
  {
   "cell_type": "code",
   "execution_count": 10,
   "id": "3d45e52e-c72d-4422-968a-89791d20033c",
   "metadata": {},
   "outputs": [
    {
     "data": {
      "text/html": [
       "<div>\n",
       "<style scoped>\n",
       "    .dataframe tbody tr th:only-of-type {\n",
       "        vertical-align: middle;\n",
       "    }\n",
       "\n",
       "    .dataframe tbody tr th {\n",
       "        vertical-align: top;\n",
       "    }\n",
       "\n",
       "    .dataframe thead th {\n",
       "        text-align: right;\n",
       "    }\n",
       "</style>\n",
       "<table border=\"1\" class=\"dataframe\">\n",
       "  <thead>\n",
       "    <tr style=\"text-align: right;\">\n",
       "      <th></th>\n",
       "      <th>var1</th>\n",
       "      <th>var2</th>\n",
       "      <th>var3</th>\n",
       "      <th>var1_norm</th>\n",
       "      <th>var2_norm</th>\n",
       "      <th>cat_a</th>\n",
       "      <th>cat_b</th>\n",
       "      <th>cat_c</th>\n",
       "    </tr>\n",
       "  </thead>\n",
       "  <tbody>\n",
       "    <tr>\n",
       "      <th>0</th>\n",
       "      <td>0.0</td>\n",
       "      <td>10.0</td>\n",
       "      <td>cat_a</td>\n",
       "      <td>0.000000</td>\n",
       "      <td>0.000000</td>\n",
       "      <td>1</td>\n",
       "      <td>0</td>\n",
       "      <td>0</td>\n",
       "    </tr>\n",
       "    <tr>\n",
       "      <th>1</th>\n",
       "      <td>0.1</td>\n",
       "      <td>10.5</td>\n",
       "      <td>cat_a</td>\n",
       "      <td>0.009709</td>\n",
       "      <td>0.004902</td>\n",
       "      <td>1</td>\n",
       "      <td>0</td>\n",
       "      <td>0</td>\n",
       "    </tr>\n",
       "    <tr>\n",
       "      <th>2</th>\n",
       "      <td>0.2</td>\n",
       "      <td>10.3</td>\n",
       "      <td>cat_a</td>\n",
       "      <td>0.019417</td>\n",
       "      <td>0.002941</td>\n",
       "      <td>1</td>\n",
       "      <td>0</td>\n",
       "      <td>0</td>\n",
       "    </tr>\n",
       "    <tr>\n",
       "      <th>3</th>\n",
       "      <td>5.0</td>\n",
       "      <td>62.0</td>\n",
       "      <td>cat_b</td>\n",
       "      <td>0.485437</td>\n",
       "      <td>0.509804</td>\n",
       "      <td>0</td>\n",
       "      <td>1</td>\n",
       "      <td>0</td>\n",
       "    </tr>\n",
       "    <tr>\n",
       "      <th>4</th>\n",
       "      <td>5.4</td>\n",
       "      <td>61.0</td>\n",
       "      <td>cat_b</td>\n",
       "      <td>0.524272</td>\n",
       "      <td>0.500000</td>\n",
       "      <td>0</td>\n",
       "      <td>1</td>\n",
       "      <td>0</td>\n",
       "    </tr>\n",
       "    <tr>\n",
       "      <th>5</th>\n",
       "      <td>5.2</td>\n",
       "      <td>60.0</td>\n",
       "      <td>cat_b</td>\n",
       "      <td>0.504854</td>\n",
       "      <td>0.490196</td>\n",
       "      <td>0</td>\n",
       "      <td>1</td>\n",
       "      <td>0</td>\n",
       "    </tr>\n",
       "    <tr>\n",
       "      <th>6</th>\n",
       "      <td>10.3</td>\n",
       "      <td>110.0</td>\n",
       "      <td>cat_c</td>\n",
       "      <td>1.000000</td>\n",
       "      <td>0.980392</td>\n",
       "      <td>0</td>\n",
       "      <td>0</td>\n",
       "      <td>1</td>\n",
       "    </tr>\n",
       "    <tr>\n",
       "      <th>7</th>\n",
       "      <td>10.2</td>\n",
       "      <td>111.0</td>\n",
       "      <td>cat_c</td>\n",
       "      <td>0.990291</td>\n",
       "      <td>0.990196</td>\n",
       "      <td>0</td>\n",
       "      <td>0</td>\n",
       "      <td>1</td>\n",
       "    </tr>\n",
       "    <tr>\n",
       "      <th>8</th>\n",
       "      <td>10.1</td>\n",
       "      <td>112.0</td>\n",
       "      <td>cat_c</td>\n",
       "      <td>0.980583</td>\n",
       "      <td>1.000000</td>\n",
       "      <td>0</td>\n",
       "      <td>0</td>\n",
       "      <td>1</td>\n",
       "    </tr>\n",
       "  </tbody>\n",
       "</table>\n",
       "</div>"
      ],
      "text/plain": [
       "   var1   var2   var3  var1_norm  var2_norm  cat_a  cat_b  cat_c\n",
       "0   0.0   10.0  cat_a   0.000000   0.000000      1      0      0\n",
       "1   0.1   10.5  cat_a   0.009709   0.004902      1      0      0\n",
       "2   0.2   10.3  cat_a   0.019417   0.002941      1      0      0\n",
       "3   5.0   62.0  cat_b   0.485437   0.509804      0      1      0\n",
       "4   5.4   61.0  cat_b   0.524272   0.500000      0      1      0\n",
       "5   5.2   60.0  cat_b   0.504854   0.490196      0      1      0\n",
       "6  10.3  110.0  cat_c   1.000000   0.980392      0      0      1\n",
       "7  10.2  111.0  cat_c   0.990291   0.990196      0      0      1\n",
       "8  10.1  112.0  cat_c   0.980583   1.000000      0      0      1"
      ]
     },
     "execution_count": 10,
     "metadata": {},
     "output_type": "execute_result"
    }
   ],
   "source": [
    "df_binario_categorica = pd.get_dummies(df[\"var3\"])\n",
    "df = pd.concat((df, df_binario_categorica), axis=1)\n",
    "df"
   ]
  },
  {
   "cell_type": "code",
   "execution_count": 11,
   "id": "3cbd9633-80dd-4a35-981c-99e8a032cd10",
   "metadata": {},
   "outputs": [
    {
     "data": {
      "text/plain": [
       "<seaborn.axisgrid.PairGrid at 0x11ffe5726e0>"
      ]
     },
     "execution_count": 11,
     "metadata": {},
     "output_type": "execute_result"
    },
    {
     "data": {
      "image/png": "[encoded data removed]",
      "text/plain": [
       "<Figure size 1000x1000 with 30 Axes>"
      ]
     },
     "metadata": {},
     "output_type": "display_data"
    }
   ],
   "source": [
    "sns.pairplot(df[['var1_norm', 'var2_norm', 'cat_a', 'cat_b', 'cat_c']], height=2)"
   ]
  },
  {
   "cell_type": "code",
   "execution_count": 12,
   "id": "2964e7e2-81f8-4f3c-87c3-9163108696db",
   "metadata": {},
   "outputs": [
    {
     "data": {
      "text/html": [
       "<div>\n",
       "<style scoped>\n",
       "    .dataframe tbody tr th:only-of-type {\n",
       "        vertical-align: middle;\n",
       "    }\n",
       "\n",
       "    .dataframe tbody tr th {\n",
       "        vertical-align: top;\n",
       "    }\n",
       "\n",
       "    .dataframe thead th {\n",
       "        text-align: right;\n",
       "    }\n",
       "</style>\n",
       "<table border=\"1\" class=\"dataframe\">\n",
       "  <thead>\n",
       "    <tr style=\"text-align: right;\">\n",
       "      <th></th>\n",
       "      <th>var1_norm</th>\n",
       "      <th>var2_norm</th>\n",
       "      <th>cat_a</th>\n",
       "      <th>cat_b</th>\n",
       "      <th>cat_c</th>\n",
       "    </tr>\n",
       "  </thead>\n",
       "  <tbody>\n",
       "    <tr>\n",
       "      <th>0</th>\n",
       "      <td>0.000000</td>\n",
       "      <td>0.000000</td>\n",
       "      <td>1</td>\n",
       "      <td>0</td>\n",
       "      <td>0</td>\n",
       "    </tr>\n",
       "    <tr>\n",
       "      <th>1</th>\n",
       "      <td>0.009709</td>\n",
       "      <td>0.004902</td>\n",
       "      <td>1</td>\n",
       "      <td>0</td>\n",
       "      <td>0</td>\n",
       "    </tr>\n",
       "    <tr>\n",
       "      <th>2</th>\n",
       "      <td>0.019417</td>\n",
       "      <td>0.002941</td>\n",
       "      <td>1</td>\n",
       "      <td>0</td>\n",
       "      <td>0</td>\n",
       "    </tr>\n",
       "    <tr>\n",
       "      <th>3</th>\n",
       "      <td>0.485437</td>\n",
       "      <td>0.509804</td>\n",
       "      <td>0</td>\n",
       "      <td>1</td>\n",
       "      <td>0</td>\n",
       "    </tr>\n",
       "    <tr>\n",
       "      <th>4</th>\n",
       "      <td>0.524272</td>\n",
       "      <td>0.500000</td>\n",
       "      <td>0</td>\n",
       "      <td>1</td>\n",
       "      <td>0</td>\n",
       "    </tr>\n",
       "    <tr>\n",
       "      <th>5</th>\n",
       "      <td>0.504854</td>\n",
       "      <td>0.490196</td>\n",
       "      <td>0</td>\n",
       "      <td>1</td>\n",
       "      <td>0</td>\n",
       "    </tr>\n",
       "    <tr>\n",
       "      <th>6</th>\n",
       "      <td>1.000000</td>\n",
       "      <td>0.980392</td>\n",
       "      <td>0</td>\n",
       "      <td>0</td>\n",
       "      <td>1</td>\n",
       "    </tr>\n",
       "    <tr>\n",
       "      <th>7</th>\n",
       "      <td>0.990291</td>\n",
       "      <td>0.990196</td>\n",
       "      <td>0</td>\n",
       "      <td>0</td>\n",
       "      <td>1</td>\n",
       "    </tr>\n",
       "    <tr>\n",
       "      <th>8</th>\n",
       "      <td>0.980583</td>\n",
       "      <td>1.000000</td>\n",
       "      <td>0</td>\n",
       "      <td>0</td>\n",
       "      <td>1</td>\n",
       "    </tr>\n",
       "  </tbody>\n",
       "</table>\n",
       "</div>"
      ],
      "text/plain": [
       "   var1_norm  var2_norm  cat_a  cat_b  cat_c\n",
       "0   0.000000   0.000000      1      0      0\n",
       "1   0.009709   0.004902      1      0      0\n",
       "2   0.019417   0.002941      1      0      0\n",
       "3   0.485437   0.509804      0      1      0\n",
       "4   0.524272   0.500000      0      1      0\n",
       "5   0.504854   0.490196      0      1      0\n",
       "6   1.000000   0.980392      0      0      1\n",
       "7   0.990291   0.990196      0      0      1\n",
       "8   0.980583   1.000000      0      0      1"
      ]
     },
     "execution_count": 12,
     "metadata": {},
     "output_type": "execute_result"
    }
   ],
   "source": [
    "df_agrupamento = df[['var1_norm', 'var2_norm', 'cat_a', 'cat_b', 'cat_c']].copy()\n",
    "df_agrupamento"
   ]
  },
  {
   "cell_type": "code",
   "execution_count": 13,
   "id": "1cee2603-bedb-4029-9f9f-6b591201468e",
   "metadata": {},
   "outputs": [
    {
     "data": {
      "image/png": "[encoded data removed]",
      "text/plain": [
       "<Figure size 640x480 with 1 Axes>"
      ]
     },
     "metadata": {},
     "output_type": "display_data"
    }
   ],
   "source": [
    "######   teste do cotovelo com grupos de 1 ate 8  ###############\n",
    "#usando a biblioteca sklearn\n",
    "from sklearn.cluster import KMeans\n",
    "\n",
    "distorcao = []\n",
    "for nclusters in range(1,9):\n",
    "\n",
    "    kmeans = KMeans(n_clusters=nclusters, random_state=33)\n",
    "    kmeans.fit(df_agrupamento)\n",
    "    distorcao.append(kmeans.inertia_)\n",
    "\n",
    "\n",
    "\n",
    "#### Plot para analise de sensibilidade e ganho informacional\n",
    "K = range(1,9)\n",
    "plt.plot(K, distorcao, 'bx-')\n",
    "plt.xlabel('k')\n",
    "plt.ylabel('Distorção')\n",
    "plt.title('Elbow para k ótimo')\n",
    "plt.show()"
   ]
  },
  {
   "cell_type": "code",
   "execution_count": 14,
   "id": "20b06ed0-a838-492f-abd6-5d72f67ef44c",
   "metadata": {},
   "outputs": [
    {
     "data": {
      "text/html": [
       "<style>#sk-container-id-1 {color: black;background-color: white;}#sk-container-id-1 pre{padding: 0;}#sk-container-id-1 div.sk-toggleable {background-color: white;}#sk-container-id-1 label.sk-toggleable__label {cursor: pointer;display: block;width: 100%;margin-bottom: 0;padding: 0.3em;box-sizing: border-box;text-align: center;}#sk-container-id-1 label.sk-toggleable__label-arrow:before {content: \"▸\";float: left;margin-right: 0.25em;color: #696969;}#sk-container-id-1 label.sk-toggleable__label-arrow:hover:before {color: black;}#sk-container-id-1 div.sk-estimator:hover label.sk-toggleable__label-arrow:before {color: black;}#sk-container-id-1 div.sk-toggleable__content {max-height: 0;max-width: 0;overflow: hidden;text-align: left;background-color: #f0f8ff;}#sk-container-id-1 div.sk-toggleable__content pre {margin: 0.2em;color: black;border-radius: 0.25em;background-color: #f0f8ff;}#sk-container-id-1 input.sk-toggleable__control:checked~div.sk-toggleable__content {max-height: 200px;max-width: 100%;overflow: auto;}#sk-container-id-1 input.sk-toggleable__control:checked~label.sk-toggleable__label-arrow:before {content: \"▾\";}#sk-container-id-1 div.sk-estimator input.sk-toggleable__control:checked~label.sk-toggleable__label {background-color: #d4ebff;}#sk-container-id-1 div.sk-label input.sk-toggleable__control:checked~label.sk-toggleable__label {background-color: #d4ebff;}#sk-container-id-1 input.sk-hidden--visually {border: 0;clip: rect(1px 1px 1px 1px);clip: rect(1px, 1px, 1px, 1px);height: 1px;margin: -1px;overflow: hidden;padding: 0;position: absolute;width: 1px;}#sk-container-id-1 div.sk-estimator {font-family: monospace;background-color: #f0f8ff;border: 1px dotted black;border-radius: 0.25em;box-sizing: border-box;margin-bottom: 0.5em;}#sk-container-id-1 div.sk-estimator:hover {background-color: #d4ebff;}#sk-container-id-1 div.sk-parallel-item::after {content: \"\";width: 100%;border-bottom: 1px solid gray;flex-grow: 1;}#sk-container-id-1 div.sk-label:hover label.sk-toggleable__label {background-color: #d4ebff;}#sk-container-id-1 div.sk-serial::before {content: \"\";position: absolute;border-left: 1px solid gray;box-sizing: border-box;top: 0;bottom: 0;left: 50%;z-index: 0;}#sk-container-id-1 div.sk-serial {display: flex;flex-direction: column;align-items: center;background-color: white;padding-right: 0.2em;padding-left: 0.2em;position: relative;}#sk-container-id-1 div.sk-item {position: relative;z-index: 1;}#sk-container-id-1 div.sk-parallel {display: flex;align-items: stretch;justify-content: center;background-color: white;position: relative;}#sk-container-id-1 div.sk-item::before, #sk-container-id-1 div.sk-parallel-item::before {content: \"\";position: absolute;border-left: 1px solid gray;box-sizing: border-box;top: 0;bottom: 0;left: 50%;z-index: -1;}#sk-container-id-1 div.sk-parallel-item {display: flex;flex-direction: column;z-index: 1;position: relative;background-color: white;}#sk-container-id-1 div.sk-parallel-item:first-child::after {align-self: flex-end;width: 50%;}#sk-container-id-1 div.sk-parallel-item:last-child::after {align-self: flex-start;width: 50%;}#sk-container-id-1 div.sk-parallel-item:only-child::after {width: 0;}#sk-container-id-1 div.sk-dashed-wrapped {border: 1px dashed gray;margin: 0 0.4em 0.5em 0.4em;box-sizing: border-box;padding-bottom: 0.4em;background-color: white;}#sk-container-id-1 div.sk-label label {font-family: monospace;font-weight: bold;display: inline-block;line-height: 1.2em;}#sk-container-id-1 div.sk-label-container {text-align: center;}#sk-container-id-1 div.sk-container {/* jupyter's `normalize.less` sets `[hidden] { display: none; }` but bootstrap.min.css set `[hidden] { display: none !important; }` so we also need the `!important` here to be able to override the default hidden behavior on the sphinx rendered scikit-learn.org. See: https://github.com/scikit-learn/scikit-learn/issues/21755 */display: inline-block !important;position: relative;}#sk-container-id-1 div.sk-text-repr-fallback {display: none;}</style><div id=\"sk-container-id-1\" class=\"sk-top-container\"><div class=\"sk-text-repr-fallback\"><pre>KMeans(n_clusters=3, random_state=33)</pre><b>In a Jupyter environment, please rerun this cell to show the HTML representation or trust the notebook. <br />On GitHub, the HTML representation is unable to render, please try loading this page with nbviewer.org.</b></div><div class=\"sk-container\" hidden><div class=\"sk-item\"><div class=\"sk-estimator sk-toggleable\"><input class=\"sk-toggleable__control sk-hidden--visually\" id=\"sk-estimator-id-1\" type=\"checkbox\" checked><label for=\"sk-estimator-id-1\" class=\"sk-toggleable__label sk-toggleable__label-arrow\">KMeans</label><div class=\"sk-toggleable__content\"><pre>KMeans(n_clusters=3, random_state=33)</pre></div></div></div></div></div>"
      ],
      "text/plain": [
       "KMeans(n_clusters=3, random_state=33)"
      ]
     },
     "execution_count": 14,
     "metadata": {},
     "output_type": "execute_result"
    }
   ],
   "source": [
    "######################################\n",
    "num_clusters = 3\n",
    "\n",
    "kmeans = KMeans(n_clusters=num_clusters, random_state=33)\n",
    "kmeans.fit(df_agrupamento)"
   ]
  },
  {
   "cell_type": "code",
   "execution_count": 15,
   "id": "404bf6ed-7e73-4c2b-b100-d146a4b7e687",
   "metadata": {},
   "outputs": [],
   "source": [
    "label = kmeans.fit_predict(df_agrupamento)"
   ]
  },
  {
   "cell_type": "code",
   "execution_count": 16,
   "id": "98478566-18c5-4d6e-b7d1-fb4d11bcd00d",
   "metadata": {},
   "outputs": [
    {
     "data": {
      "text/html": [
       "<div>\n",
       "<style scoped>\n",
       "    .dataframe tbody tr th:only-of-type {\n",
       "        vertical-align: middle;\n",
       "    }\n",
       "\n",
       "    .dataframe tbody tr th {\n",
       "        vertical-align: top;\n",
       "    }\n",
       "\n",
       "    .dataframe thead th {\n",
       "        text-align: right;\n",
       "    }\n",
       "</style>\n",
       "<table border=\"1\" class=\"dataframe\">\n",
       "  <thead>\n",
       "    <tr style=\"text-align: right;\">\n",
       "      <th></th>\n",
       "      <th>var1</th>\n",
       "      <th>var2</th>\n",
       "      <th>var3</th>\n",
       "      <th>var1_norm</th>\n",
       "      <th>var2_norm</th>\n",
       "      <th>cat_a</th>\n",
       "      <th>cat_b</th>\n",
       "      <th>cat_c</th>\n",
       "      <th>kmeans</th>\n",
       "    </tr>\n",
       "  </thead>\n",
       "  <tbody>\n",
       "    <tr>\n",
       "      <th>0</th>\n",
       "      <td>0.0</td>\n",
       "      <td>10.0</td>\n",
       "      <td>cat_a</td>\n",
       "      <td>0.000000</td>\n",
       "      <td>0.000000</td>\n",
       "      <td>1</td>\n",
       "      <td>0</td>\n",
       "      <td>0</td>\n",
       "      <td>2</td>\n",
       "    </tr>\n",
       "    <tr>\n",
       "      <th>1</th>\n",
       "      <td>0.1</td>\n",
       "      <td>10.5</td>\n",
       "      <td>cat_a</td>\n",
       "      <td>0.009709</td>\n",
       "      <td>0.004902</td>\n",
       "      <td>1</td>\n",
       "      <td>0</td>\n",
       "      <td>0</td>\n",
       "      <td>2</td>\n",
       "    </tr>\n",
       "    <tr>\n",
       "      <th>2</th>\n",
       "      <td>0.2</td>\n",
       "      <td>10.3</td>\n",
       "      <td>cat_a</td>\n",
       "      <td>0.019417</td>\n",
       "      <td>0.002941</td>\n",
       "      <td>1</td>\n",
       "      <td>0</td>\n",
       "      <td>0</td>\n",
       "      <td>2</td>\n",
       "    </tr>\n",
       "    <tr>\n",
       "      <th>3</th>\n",
       "      <td>5.0</td>\n",
       "      <td>62.0</td>\n",
       "      <td>cat_b</td>\n",
       "      <td>0.485437</td>\n",
       "      <td>0.509804</td>\n",
       "      <td>0</td>\n",
       "      <td>1</td>\n",
       "      <td>0</td>\n",
       "      <td>0</td>\n",
       "    </tr>\n",
       "    <tr>\n",
       "      <th>4</th>\n",
       "      <td>5.4</td>\n",
       "      <td>61.0</td>\n",
       "      <td>cat_b</td>\n",
       "      <td>0.524272</td>\n",
       "      <td>0.500000</td>\n",
       "      <td>0</td>\n",
       "      <td>1</td>\n",
       "      <td>0</td>\n",
       "      <td>0</td>\n",
       "    </tr>\n",
       "    <tr>\n",
       "      <th>5</th>\n",
       "      <td>5.2</td>\n",
       "      <td>60.0</td>\n",
       "      <td>cat_b</td>\n",
       "      <td>0.504854</td>\n",
       "      <td>0.490196</td>\n",
       "      <td>0</td>\n",
       "      <td>1</td>\n",
       "      <td>0</td>\n",
       "      <td>0</td>\n",
       "    </tr>\n",
       "    <tr>\n",
       "      <th>6</th>\n",
       "      <td>10.3</td>\n",
       "      <td>110.0</td>\n",
       "      <td>cat_c</td>\n",
       "      <td>1.000000</td>\n",
       "      <td>0.980392</td>\n",
       "      <td>0</td>\n",
       "      <td>0</td>\n",
       "      <td>1</td>\n",
       "      <td>1</td>\n",
       "    </tr>\n",
       "    <tr>\n",
       "      <th>7</th>\n",
       "      <td>10.2</td>\n",
       "      <td>111.0</td>\n",
       "      <td>cat_c</td>\n",
       "      <td>0.990291</td>\n",
       "      <td>0.990196</td>\n",
       "      <td>0</td>\n",
       "      <td>0</td>\n",
       "      <td>1</td>\n",
       "      <td>1</td>\n",
       "    </tr>\n",
       "    <tr>\n",
       "      <th>8</th>\n",
       "      <td>10.1</td>\n",
       "      <td>112.0</td>\n",
       "      <td>cat_c</td>\n",
       "      <td>0.980583</td>\n",
       "      <td>1.000000</td>\n",
       "      <td>0</td>\n",
       "      <td>0</td>\n",
       "      <td>1</td>\n",
       "      <td>1</td>\n",
       "    </tr>\n",
       "  </tbody>\n",
       "</table>\n",
       "</div>"
      ],
      "text/plain": [
       "   var1   var2   var3  var1_norm  var2_norm  cat_a  cat_b  cat_c  kmeans\n",
       "0   0.0   10.0  cat_a   0.000000   0.000000      1      0      0       2\n",
       "1   0.1   10.5  cat_a   0.009709   0.004902      1      0      0       2\n",
       "2   0.2   10.3  cat_a   0.019417   0.002941      1      0      0       2\n",
       "3   5.0   62.0  cat_b   0.485437   0.509804      0      1      0       0\n",
       "4   5.4   61.0  cat_b   0.524272   0.500000      0      1      0       0\n",
       "5   5.2   60.0  cat_b   0.504854   0.490196      0      1      0       0\n",
       "6  10.3  110.0  cat_c   1.000000   0.980392      0      0      1       1\n",
       "7  10.2  111.0  cat_c   0.990291   0.990196      0      0      1       1\n",
       "8  10.1  112.0  cat_c   0.980583   1.000000      0      0      1       1"
      ]
     },
     "execution_count": 16,
     "metadata": {},
     "output_type": "execute_result"
    }
   ],
   "source": [
    "df['kmeans'] = label\n",
    "df"
   ]
  },
  {
   "cell_type": "code",
   "execution_count": 17,
   "id": "2647bddb-3444-44a7-bd56-f75d260da068",
   "metadata": {},
   "outputs": [],
   "source": [
    "########################################"
   ]
  },
  {
   "cell_type": "code",
   "execution_count": 18,
   "id": "054bf0b5-2ece-446b-88a3-4c60b81df253",
   "metadata": {},
   "outputs": [
    {
     "data": {
      "text/plain": [
       "<seaborn.matrix.ClusterGrid at 0x11f8255f7f0>"
      ]
     },
     "execution_count": 18,
     "metadata": {},
     "output_type": "execute_result"
    },
    {
     "data": {
      "image/png": "[encoded data removed]",
      "text/plain": [
       "<Figure size 400x400 with 4 Axes>"
      ]
     },
     "metadata": {},
     "output_type": "display_data"
    }
   ],
   "source": [
    "# plot\n",
    "sns.clustermap(\n",
    "  df_agrupamento, \n",
    "  metric=\"euclidean\", #euclidean #correlation\n",
    "  method=\"ward\",      #ward #single\n",
    "  cmap=\"vlag\",\n",
    "  figsize=(4,4),\n",
    ")"
   ]
  },
  {
   "cell_type": "code",
   "execution_count": 19,
   "id": "347b3022-0bc4-4e7f-b4d4-babad421f101",
   "metadata": {},
   "outputs": [
    {
     "data": {
      "text/plain": [
       "<seaborn.matrix.ClusterGrid at 0x11f859b2560>"
      ]
     },
     "execution_count": 19,
     "metadata": {},
     "output_type": "execute_result"
    },
    {
     "data": {
      "image/png": "[encoded data removed]",
      "text/plain": [
       "<Figure size 400x400 with 4 Axes>"
      ]
     },
     "metadata": {},
     "output_type": "display_data"
    }
   ],
   "source": [
    "# plot\n",
    "sns.clustermap(\n",
    "  df_agrupamento, \n",
    "  metric=\"correlation\", #euclidean #correlation\n",
    "  method=\"single\",      #ward #single\n",
    "  cmap=\"vlag\",\n",
    "  figsize=(4,4),\n",
    ")"
   ]
  },
  {
   "cell_type": "code",
   "execution_count": 20,
   "id": "b00f28d7-01d7-48bb-8523-b8ee07e9093e",
   "metadata": {},
   "outputs": [
    {
     "data": {
      "text/html": [
       "<div>\n",
       "<style scoped>\n",
       "    .dataframe tbody tr th:only-of-type {\n",
       "        vertical-align: middle;\n",
       "    }\n",
       "\n",
       "    .dataframe tbody tr th {\n",
       "        vertical-align: top;\n",
       "    }\n",
       "\n",
       "    .dataframe thead th {\n",
       "        text-align: right;\n",
       "    }\n",
       "</style>\n",
       "<table border=\"1\" class=\"dataframe\">\n",
       "  <thead>\n",
       "    <tr style=\"text-align: right;\">\n",
       "      <th></th>\n",
       "      <th>var1</th>\n",
       "      <th>var2</th>\n",
       "      <th>var3</th>\n",
       "      <th>var1_norm</th>\n",
       "      <th>var2_norm</th>\n",
       "      <th>cat_a</th>\n",
       "      <th>cat_b</th>\n",
       "      <th>cat_c</th>\n",
       "      <th>kmeans</th>\n",
       "      <th>hca</th>\n",
       "    </tr>\n",
       "  </thead>\n",
       "  <tbody>\n",
       "    <tr>\n",
       "      <th>0</th>\n",
       "      <td>0.0</td>\n",
       "      <td>10.0</td>\n",
       "      <td>cat_a</td>\n",
       "      <td>0.000000</td>\n",
       "      <td>0.000000</td>\n",
       "      <td>1</td>\n",
       "      <td>0</td>\n",
       "      <td>0</td>\n",
       "      <td>2</td>\n",
       "      <td>1</td>\n",
       "    </tr>\n",
       "    <tr>\n",
       "      <th>1</th>\n",
       "      <td>0.1</td>\n",
       "      <td>10.5</td>\n",
       "      <td>cat_a</td>\n",
       "      <td>0.009709</td>\n",
       "      <td>0.004902</td>\n",
       "      <td>1</td>\n",
       "      <td>0</td>\n",
       "      <td>0</td>\n",
       "      <td>2</td>\n",
       "      <td>1</td>\n",
       "    </tr>\n",
       "    <tr>\n",
       "      <th>2</th>\n",
       "      <td>0.2</td>\n",
       "      <td>10.3</td>\n",
       "      <td>cat_a</td>\n",
       "      <td>0.019417</td>\n",
       "      <td>0.002941</td>\n",
       "      <td>1</td>\n",
       "      <td>0</td>\n",
       "      <td>0</td>\n",
       "      <td>2</td>\n",
       "      <td>1</td>\n",
       "    </tr>\n",
       "    <tr>\n",
       "      <th>3</th>\n",
       "      <td>5.0</td>\n",
       "      <td>62.0</td>\n",
       "      <td>cat_b</td>\n",
       "      <td>0.485437</td>\n",
       "      <td>0.509804</td>\n",
       "      <td>0</td>\n",
       "      <td>1</td>\n",
       "      <td>0</td>\n",
       "      <td>0</td>\n",
       "      <td>0</td>\n",
       "    </tr>\n",
       "    <tr>\n",
       "      <th>4</th>\n",
       "      <td>5.4</td>\n",
       "      <td>61.0</td>\n",
       "      <td>cat_b</td>\n",
       "      <td>0.524272</td>\n",
       "      <td>0.500000</td>\n",
       "      <td>0</td>\n",
       "      <td>1</td>\n",
       "      <td>0</td>\n",
       "      <td>0</td>\n",
       "      <td>0</td>\n",
       "    </tr>\n",
       "    <tr>\n",
       "      <th>5</th>\n",
       "      <td>5.2</td>\n",
       "      <td>60.0</td>\n",
       "      <td>cat_b</td>\n",
       "      <td>0.504854</td>\n",
       "      <td>0.490196</td>\n",
       "      <td>0</td>\n",
       "      <td>1</td>\n",
       "      <td>0</td>\n",
       "      <td>0</td>\n",
       "      <td>0</td>\n",
       "    </tr>\n",
       "    <tr>\n",
       "      <th>6</th>\n",
       "      <td>10.3</td>\n",
       "      <td>110.0</td>\n",
       "      <td>cat_c</td>\n",
       "      <td>1.000000</td>\n",
       "      <td>0.980392</td>\n",
       "      <td>0</td>\n",
       "      <td>0</td>\n",
       "      <td>1</td>\n",
       "      <td>1</td>\n",
       "      <td>2</td>\n",
       "    </tr>\n",
       "    <tr>\n",
       "      <th>7</th>\n",
       "      <td>10.2</td>\n",
       "      <td>111.0</td>\n",
       "      <td>cat_c</td>\n",
       "      <td>0.990291</td>\n",
       "      <td>0.990196</td>\n",
       "      <td>0</td>\n",
       "      <td>0</td>\n",
       "      <td>1</td>\n",
       "      <td>1</td>\n",
       "      <td>2</td>\n",
       "    </tr>\n",
       "    <tr>\n",
       "      <th>8</th>\n",
       "      <td>10.1</td>\n",
       "      <td>112.0</td>\n",
       "      <td>cat_c</td>\n",
       "      <td>0.980583</td>\n",
       "      <td>1.000000</td>\n",
       "      <td>0</td>\n",
       "      <td>0</td>\n",
       "      <td>1</td>\n",
       "      <td>1</td>\n",
       "      <td>2</td>\n",
       "    </tr>\n",
       "  </tbody>\n",
       "</table>\n",
       "</div>"
      ],
      "text/plain": [
       "   var1   var2   var3  var1_norm  var2_norm  cat_a  cat_b  cat_c  kmeans  hca\n",
       "0   0.0   10.0  cat_a   0.000000   0.000000      1      0      0       2    1\n",
       "1   0.1   10.5  cat_a   0.009709   0.004902      1      0      0       2    1\n",
       "2   0.2   10.3  cat_a   0.019417   0.002941      1      0      0       2    1\n",
       "3   5.0   62.0  cat_b   0.485437   0.509804      0      1      0       0    0\n",
       "4   5.4   61.0  cat_b   0.524272   0.500000      0      1      0       0    0\n",
       "5   5.2   60.0  cat_b   0.504854   0.490196      0      1      0       0    0\n",
       "6  10.3  110.0  cat_c   1.000000   0.980392      0      0      1       1    2\n",
       "7  10.2  111.0  cat_c   0.990291   0.990196      0      0      1       1    2\n",
       "8  10.1  112.0  cat_c   0.980583   1.000000      0      0      1       1    2"
      ]
     },
     "execution_count": 20,
     "metadata": {},
     "output_type": "execute_result"
    }
   ],
   "source": [
    "from sklearn.cluster import AgglomerativeClustering\n",
    "\n",
    "num_clusters = 3\n",
    "\n",
    "\n",
    "# instanciando variável de modelo de agrupamento e passando parâmetros\n",
    "model = AgglomerativeClustering(\n",
    "  n_clusters=num_clusters, \n",
    "  #affinity='correlation', \n",
    "  #linkage='single'\n",
    "    affinity='euclidean', \n",
    "    linkage='ward'\n",
    ")\n",
    "model.fit(df_agrupamento)\n",
    "\n",
    "# realizando gravação dos labels\n",
    "df['hca'] = model.labels_\n",
    "df"
   ]
  },
  {
   "cell_type": "code",
   "execution_count": 24,
   "id": "9a618485-35b3-440f-9c96-a3e45fb96dec",
   "metadata": {},
   "outputs": [
    {
     "name": "stdout",
     "output_type": "stream",
     "text": [
      "tamanho da amostra:  81\n"
     ]
    }
   ],
   "source": [
    "n = 104\t\t#tam da populacao\n",
    "z = 1.96\t#z-score\n",
    "e = 5/100\t#percentual de erro\n",
    "p = 0.5 \t#desvio padrao \n",
    "\n",
    "\n",
    "termo_1 = (z*z*p*(1-p))/(e*e)\n",
    "termo_2 = 1+((z*z*p*(1-p))/(e*e*n))\n",
    "tam_amostra = termo_1/termo_2\n",
    "print('tamanho da amostra: ',int(tam_amostra))\n",
    "\n",
    "\n",
    "#60 0.84\n",
    "#70 1.03\n",
    "#75 1.15\n",
    "#80 1.28\n",
    "#85 1.44\n",
    "#90 1.65\n",
    "#95 1.96\n",
    "#99 2.58\n",
    "\n",
    "\n",
    "### uma amostra de tamanho 81, tem 95% de confiança de que ela é representativa de um todo populacional de tam. 104"
   ]
  },
  {
   "cell_type": "code",
   "execution_count": null,
   "id": "4a254c06-ac4a-4a48-8a15-0ddb236a4ed9",
   "metadata": {},
   "outputs": [],
   "source": []
  },
  {
   "cell_type": "code",
   "execution_count": null,
   "id": "1093fc8f-b825-4f01-9f67-87e5fac37e72",
   "metadata": {},
   "outputs": [],
   "source": []
  }
 ],
 "metadata": {
  "kernelspec": {
   "display_name": "Python 3 (ipykernel)",
   "language": "python",
   "name": "python3"
  },
  "language_info": {
   "codemirror_mode": {
    "name": "ipython",
    "version": 3
   },
   "file_extension": ".py",
   "mimetype": "text/x-python",
   "name": "python",
   "nbconvert_exporter": "python",
   "pygments_lexer": "ipython3",
   "version": "3.10.7"
  }
 },
 "nbformat": 4,
 "nbformat_minor": 5
}
